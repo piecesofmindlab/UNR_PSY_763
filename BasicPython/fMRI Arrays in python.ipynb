{
 "cells": [
  {
   "cell_type": "markdown",
   "metadata": {},
   "source": [
    "# fMRI arrays in python\n",
    "In this notebook, we will learn to manipulate 3D or 4D arrays containing fMRI data. This is both difficult (because of the multi-dimensional nature of the arrays) and easier (because the data is interpretable and allows for intuitive visualizations of different dimensions). \n",
    "\n",
    "We will load fMRI data using a library called nibabel, which loads many types of neuroimaging formats (unfortunately, not brain voyager files...).\n",
    "\n",
    "***Please note: for this notebook to work, you have to configure your pycortex installation to read the pycortex store associated with the example data. the `filestore` line in ~/.config/pycortex/options.cfg to read: `filestore = ~/remote_mounts/pomcloud0/datasets/IntroToEncodingModels/pycortex_store/`***"
   ]
  },
  {
   "cell_type": "code",
   "execution_count": null,
   "metadata": {
    "tags": []
   },
   "outputs": [],
   "source": [
    "import matplotlib.pyplot as plt\n",
    "import numpy as np\n",
    "import cortex as cx\n",
    "import nibabel\n",
    "import pathlib\n",
    "\n",
    "%matplotlib inline"
   ]
  },
  {
   "cell_type": "markdown",
   "metadata": {},
   "source": [
    "Show all files in the directory we will be working with:"
   ]
  },
  {
   "cell_type": "code",
   "execution_count": null,
   "metadata": {
    "tags": []
   },
   "outputs": [],
   "source": [
    "iem_base = pathlib.Path('~/remote_mounts/pomcloud0/datasets/IntroToEncodingModels/').expanduser()"
   ]
  },
  {
   "cell_type": "code",
   "execution_count": null,
   "metadata": {
    "tags": []
   },
   "outputs": [],
   "source": [
    "# We will work with a file from a category localizer experiment. \n",
    "# Load a single file of functional data\n",
    "fname = iem_base / 's03_catloc_run01.nii.gz'\n",
    "nii = nibabel.load(fname)\n",
    "data = nii.get_fdata()"
   ]
  },
  {
   "cell_type": "code",
   "execution_count": null,
   "metadata": {
    "tags": []
   },
   "outputs": [],
   "source": [
    "# The four dimensions of this array are (x, y, z, time)\n",
    "print(data.shape)"
   ]
  },
  {
   "cell_type": "markdown",
   "metadata": {},
   "source": [
    "Thus, this array contains 120 volumes of the brain. "
   ]
  },
  {
   "cell_type": "markdown",
   "metadata": {},
   "source": [
    "# Data manipulation / display"
   ]
  },
  {
   "cell_type": "code",
   "execution_count": null,
   "metadata": {
    "tags": []
   },
   "outputs": [],
   "source": [
    "# Select the middle z slice of the first volume of data from this array.\n",
    "z12_0 = data[:, :, 12, 0]\n",
    "# This will be a 2D array:\n",
    "print(z12_0.shape)\n",
    "# ... so we can use imshow on it:\n",
    "plt.imshow(z12_0)\n",
    "plt.show()"
   ]
  },
  {
   "cell_type": "markdown",
   "metadata": {},
   "source": [
    "Dig it! a brain! \n",
    "\n",
    "One important manipulation of fMRI arrays is to switch the order of all dimensions of the array. This can be done simply using the function `np.transpose()`. For 2D arrays, this is a very straighforward manipulation:"
   ]
  },
  {
   "cell_type": "code",
   "execution_count": null,
   "metadata": {
    "tags": []
   },
   "outputs": [],
   "source": [
    "flip_me = np.array([[1, 2, 3, 4], [5, 6, 7, 8]])\n",
    "flipped = np.transpose(flip_me)\n",
    "print(flip_me)\n",
    "print(flipped)"
   ]
  },
  {
   "cell_type": "markdown",
   "metadata": {},
   "source": [
    "\n",
    "... In this example, the rows become columns and the columns become rows. This can also be accomplished by just calling the .T method of the array:"
   ]
  },
  {
   "cell_type": "code",
   "execution_count": null,
   "metadata": {
    "tags": []
   },
   "outputs": [],
   "source": [
    "print(flip_me)\n",
    "print(flip_me.shape)\n",
    "print(flip_me.T)\n",
    "print(flip_me.T.shape)"
   ]
  },
  {
   "cell_type": "markdown",
   "metadata": {},
   "source": [
    "For 3D arrays, transposition is a more complex operation. By convention, `np.transpose()` (or `<array>.T`) reverses and flips the order of all dimensions in an array. So, if we apply that operation to our fMRI data, we get out an array that is (time x Z x Y x X) instead of (X x Y x Z x T). As you will see below, it's useful to have time as the first dimension. For many useful operations, syntax becomes simpler to write for TZYX arrays. Also, more concretely, pycortex will assume this shape of volumentric data (tzyx or zyx instead of xyzt or xyz). So, let's transpose the data:"
   ]
  },
  {
   "cell_type": "code",
   "execution_count": null,
   "metadata": {
    "tags": []
   },
   "outputs": [],
   "source": [
    "dataT = data.T\n",
    "print(dataT.shape)"
   ]
  },
  {
   "cell_type": "markdown",
   "metadata": {},
   "source": [
    "As a quick example of why this is neat: with the data in this format, volumes of data can be selected like this:"
   ]
  },
  {
   "cell_type": "code",
   "execution_count": null,
   "metadata": {
    "tags": []
   },
   "outputs": [],
   "source": [
    "# Select first volume\n",
    "first_vol = dataT[0,:,:,:]\n",
    "# Or, more simply, like this:\n",
    "first_vol_variant = dataT[0]\n",
    "# ... That's clean. We like clean.\n",
    "print(np.allclose(first_vol, first_vol_variant))"
   ]
  },
  {
   "cell_type": "markdown",
   "metadata": {},
   "source": [
    "Finally, note that python operations can be performed on the output of another operation, like this:"
   ]
  },
  {
   "cell_type": "code",
   "execution_count": null,
   "metadata": {
    "tags": []
   },
   "outputs": [],
   "source": [
    "# Indexing following transposition\n",
    "first_vol_variant2 = data.T[0]\n",
    "print(np.allclose(first_vol, first_vol_variant2))\n",
    "# Or: reshaping a linear array into a 2D array:\n",
    "# (here, reshape is called on the output of np.arange())\n",
    "my_2d_array = np.arange(10).reshape(5,2)\n",
    "print(my_2d_array)"
   ]
  },
  {
   "cell_type": "markdown",
   "metadata": {},
   "source": [
    "Best not to get too carried away with this; it makes code very difficult to read if taken to excess. But it can provide useful shortcuts."
   ]
  },
  {
   "cell_type": "markdown",
   "metadata": {},
   "source": [
    "## Exercises"
   ]
  },
  {
   "cell_type": "code",
   "execution_count": null,
   "metadata": {},
   "outputs": [],
   "source": [
    "# Select the middle X slice of the first volume, and plot it the same way\n"
   ]
  },
  {
   "cell_type": "code",
   "execution_count": null,
   "metadata": {},
   "outputs": [],
   "source": [
    "# Select the middle Y slice of the first volume, and plot it the same way\n"
   ]
  },
  {
   "cell_type": "code",
   "execution_count": null,
   "metadata": {},
   "outputs": [],
   "source": [
    "# Select all values from a single voxel (choose a voxel that is INSIDE the brain somewhere - how is up to you)\n",
    "# and plot all 120 time values using plt.plot()\n"
   ]
  },
  {
   "cell_type": "code",
   "execution_count": null,
   "metadata": {},
   "outputs": [],
   "source": [
    "# Use plt.subplots() to create a plot of all 25 z slices of the fifth brain volume in a single figure. \n",
    "fig, axs = plt.subplots(...)\n",
    "\n",
    "for ... # loop over axes and/or slices\n",
    "    # Call some plot command here!"
   ]
  },
  {
   "cell_type": "code",
   "execution_count": null,
   "metadata": {},
   "outputs": [],
   "source": [
    "# Plot a histogram of ALL the values for all voxels at all time points using plt.hist()\n",
    "# NOTE: you can't pass a 4D array to plt.hist(). You can try, but your computer will hate you. So you have to use \n",
    "# the .flatten() method of your array to convert it to a 1D array before passing it to plt.hist()\n"
   ]
  },
  {
   "cell_type": "markdown",
   "metadata": {},
   "source": [
    "# Logical indices"
   ]
  },
  {
   "cell_type": "markdown",
   "metadata": {},
   "source": [
    "We talked about logical indices in class this past week. Logical indices select values in an array where the logical index is True. Thus:"
   ]
  },
  {
   "cell_type": "code",
   "execution_count": null,
   "metadata": {
    "tags": []
   },
   "outputs": [],
   "source": [
    "a = np.array([1, 2, 3, 4, 5])\n",
    "b = np.array([True, True, False, True, False])\n",
    "a[b]"
   ]
  },
  {
   "cell_type": "markdown",
   "metadata": {},
   "source": [
    "Note that you can CREATE logical arrays to use for indexing. Check this out: "
   ]
  },
  {
   "cell_type": "code",
   "execution_count": null,
   "metadata": {
    "tags": []
   },
   "outputs": [],
   "source": [
    "c = a > 3\n",
    "print(c)\n",
    "print(a[c])"
   ]
  },
  {
   "cell_type": "markdown",
   "metadata": {},
   "source": [
    "## Exercise on masking in general\n",
    "The histogram you made above should show you that there are many values in the fMRI data that are near zero. These are very likely to be measurements from voxels outside the brain. Your task is to exclude these voxels and create a new histogram. Do this in two steps. First, take the mean of the data across time. This should result in a 3D array the size of the brain. Then use `>` or `<` to create a logical index of values above some minimum activity threshold. The conceptual basis here is that you want to include all voxels with an average activity OVER some value. (You need to choose what that value should be). Use this logical index to select values in the original data. Make a histogram of the selected values.\n",
    "\n",
    "NOTE: your logical index will be a 3D array. Your data is 4D. Thus, you will need to include one `:` when using the logical index on your data, as shown in the answer below. "
   ]
  },
  {
   "cell_type": "code",
   "execution_count": null,
   "metadata": {},
   "outputs": [],
   "source": [
    "# Define some index here (like c was done above)\n",
    "idx = ...\n",
    "# Use this index on your data\n",
    "selected_data = data[idx, :]\n",
    "# Create a histogram of the selected values\n",
    "plt.hist(selected_data, ...) # add some keyword arguments here (e.g. a number of bins) to make this look nicer."
   ]
  },
  {
   "cell_type": "markdown",
   "metadata": {},
   "source": [
    "A very common use for logical arrays in fMRI analysis is the definition of regions of interest. These can be stored as brain-volume sized logical arrays that contain True values in the location of voxels within the ROI and False values elsewhere. \n",
    "\n",
    "Pycortex can generate ROI masks of this form, as shown in the following cell. Note that, as in creation of pycortex `Volume()` objects, you must specify a subject (whose brain is this?) and a transform (which experiment and/or which alignment of data with the underlying anatomy is this?), as well as a list of ROIs (which must have been pre-defined for that subject)."
   ]
  },
  {
   "cell_type": "code",
   "execution_count": null,
   "metadata": {},
   "outputs": [],
   "source": []
  },
  {
   "cell_type": "code",
   "execution_count": null,
   "metadata": {
    "tags": []
   },
   "outputs": [],
   "source": [
    "subject = 's03'\n",
    "transform = 'category_localizer'\n",
    "rois = cx.get_roi_masks(subject, transform, roi_list=['V1','V2','V3', 'FFA','PPA'])"
   ]
  },
  {
   "cell_type": "code",
   "execution_count": null,
   "metadata": {
    "tags": []
   },
   "outputs": [],
   "source": [
    "# This returns a dictionary of arrays, one for each region of interest:\n",
    "print(list(rois.keys()))\n",
    "# Each one is the shape of the brain:\n",
    "print(rois['V1'].shape)"
   ]
  },
  {
   "cell_type": "markdown",
   "metadata": {},
   "source": [
    "## Exercise on ROIs\n",
    "\n",
    "How many voxels are in each ROI? (this just takes some simple math on the array - how many True values are in each array??)"
   ]
  },
  {
   "cell_type": "code",
   "execution_count": null,
   "metadata": {},
   "outputs": [],
   "source": [
    "# Answer\n"
   ]
  },
  {
   "cell_type": "markdown",
   "metadata": {},
   "source": [
    "Select all voxels in V1, FFA, and PPA, and plot the mean timecourse for each region. The code here should get you started!"
   ]
  },
  {
   "cell_type": "code",
   "execution_count": null,
   "metadata": {},
   "outputs": [],
   "source": [
    "# Answer\n",
    "# Select V1 voxels only\n",
    "V1_voxels = dataT[...] # How will you index into dataT?\n",
    "# Take the mean across all voxels in V1\n",
    "V1_mean = # ...?\n",
    "# Plot answer\n",
    "plt.plot(V1_mean)\n",
    "# Do the same for FFA and PPA\n",
    "# ...?"
   ]
  },
  {
   "cell_type": "markdown",
   "metadata": {},
   "source": [
    "There should be hints of differences between each timecourse - i.e., maybe blocks of time where the timecourse is a little higher than at other points. This is a block design experiment, after all. (Don't expect anything too clean - there are only 2 reapeats of each condition in this data!)"
   ]
  },
  {
   "cell_type": "markdown",
   "metadata": {},
   "source": [
    "# Last big exercise\n",
    "This data is from a localizer experiment - the experiment shows faces, bodies, places, objects, and scrambled versions of some of the images in different blocks. A design matrix showing when each of the blocks started and stopped is stored in the X variable in the following file:"
   ]
  },
  {
   "cell_type": "code",
   "execution_count": null,
   "metadata": {
    "tags": []
   },
   "outputs": [],
   "source": [
    "import h5py"
   ]
  },
  {
   "cell_type": "code",
   "execution_count": null,
   "metadata": {
    "tags": []
   },
   "outputs": [],
   "source": [
    "hf = h5py.File(str(iem_base / 'catloc_design.hdf'))"
   ]
  },
  {
   "cell_type": "code",
   "execution_count": null,
   "metadata": {
    "tags": []
   },
   "outputs": [],
   "source": [
    "with h5py.File(str(iem_base / 'catloc_design.hdf')) as hf:\n",
    "    print(list(hf.keys()))\n",
    "    X = hf['X'][:]\n",
    "print(X.shape)"
   ]
  },
  {
   "cell_type": "code",
   "execution_count": null,
   "metadata": {
    "tags": []
   },
   "outputs": [],
   "source": [
    "plt.imshow(X, aspect='auto', interpolation='nearest')"
   ]
  },
  {
   "cell_type": "markdown",
   "metadata": {},
   "source": [
    "You may have noticed that neither dimension of this array matches with the time dimension of the fMRI data (that was 120 TRs, and the dimensions of X are (720, 5). BUT, you also may have noticed that there are six different fMRI files (labeled run 1 through run 6) in the directory that we loaded the original file from. SO. Your task is to analyze the experiment! \n",
    "\n",
    "At this point, we have gone over all the necessary steps. Consult past notebooks to help you figure out what to do for each of these!\n",
    "\n",
    "1. Load the fMRI data into a Y variable \n",
    "    * You should be able to create a Y array that is 720 x (voxels) in size.\n",
    "    * It will be much gentler on your memory if you mask out the cortical voxels for each run before concatenating them. An example of how to get a cortical mask for this subject is shown below.\n",
    "    * For our purposes here, you should z-score the fMRI data along the time dimension. You can use the zscore function in scipy.stats (`from scipy.stats import zscore`). This should be done SEPARATELY for each run, because the mean for each run is likely to be different for spurious reasons!\n",
    "2. Convolve each column of the X variable with a hemodynamic response function\n",
    "3. Use OLS regression to fit weights to each column of the design matrix for each voxel.\n",
    "4. Compute the difference between the weights for the `object` regressor and the weights for the `face` regressor. \n",
    "5. This should give you one value for each voxel in the brain; display this data on a pycortex surface!"
   ]
  },
  {
   "cell_type": "code",
   "execution_count": null,
   "metadata": {},
   "outputs": [],
   "source": [
    "# To get a pycortex mask for this subject:\n",
    "subject = 's03'\n",
    "transform = 'category_localizer'\n",
    "mask = cx.db.get_mask(subject, transform, type='cortical')\n",
    "print(mask.shape)"
   ]
  },
  {
   "cell_type": "code",
   "execution_count": null,
   "metadata": {},
   "outputs": [],
   "source": [
    "# Answer\n",
    "\n",
    "# (it may be useful to use multiple cells for this)"
   ]
  },
  {
   "cell_type": "code",
   "execution_count": null,
   "metadata": {},
   "outputs": [],
   "source": []
  }
 ],
 "metadata": {
  "kernelspec": {
   "display_name": "Python 3 (ipykernel)",
   "language": "python",
   "name": "python3"
  },
  "language_info": {
   "codemirror_mode": {
    "name": "ipython",
    "version": 3
   },
   "file_extension": ".py",
   "mimetype": "text/x-python",
   "name": "python",
   "nbconvert_exporter": "python",
   "pygments_lexer": "ipython3",
   "version": "3.10.13"
  }
 },
 "nbformat": 4,
 "nbformat_minor": 4
}
