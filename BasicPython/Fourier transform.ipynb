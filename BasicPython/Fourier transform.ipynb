{
 "cells": [
  {
   "cell_type": "markdown",
   "metadata": {},
   "source": [
    "# Fourier transform\n",
    "\n",
    "Sooner or later, if you study cognitive neuroscience (or any other field that touches on or makes use of signal processing), you will run into the Fourier transform. "
   ]
  },
  {
   "cell_type": "code",
   "execution_count": null,
   "metadata": {},
   "outputs": [],
   "source": [
    "import numpy as np\n",
    "import matplotlib.pyplot as plt\n",
    "%matplotlib inline\n",
    "%config InlineBackend.figure_format = 'retina'"
   ]
  },
  {
   "cell_type": "code",
   "execution_count": null,
   "metadata": {},
   "outputs": [],
   "source": [
    "# Combinations of sine and cosine waves can model arbitrary signals (the more frequencies considered, the more \n",
    "# accurate the approximation of the signal)\n",
    "n = 100\n",
    "x = np.linspace(0, 1, n)\n",
    "\n",
    "# Define squarewave\n",
    "y = np.ones((n,)) * 0.5\n",
    "y[1:50] = 1\n",
    "y[50:-1] = 0\n",
    "\n",
    "print('Approximating a square wave')\n",
    "fig, axs = plt.subplots(2, 3, figsize=(8,6), )\n",
    "for ax, N in zip(axs.flatten(), np.logspace(np.log10(2), np.log10(64), 6)):\n",
    "    \n",
    "    f = np.ones((100,)) * 0.5\n",
    "    for i in np.arange(1, N+1, 2):\n",
    "        a = 2 / np.pi / i\n",
    "        f += a * np.sin(2 * np.pi * i * x)\n",
    "    ax.plot(x, y, color='orange')\n",
    "    ax.plot(x, f, '--')\n",
    "    ax.set_title('%0.0f sine waves'%N)\n",
    "plt.tight_layout()"
   ]
  },
  {
   "cell_type": "code",
   "execution_count": null,
   "metadata": {
    "scrolled": true
   },
   "outputs": [],
   "source": [
    "# Sin and Cos differ only in phase; they can be combined to make waveforms with arbitrary phases\n",
    "x = np.linspace(0, 2*np.pi, 100)\n",
    "fig, ax = plt.subplots()\n",
    "ax.plot(x, np.sin(x), label='sin', color='r')\n",
    "ax.plot(x, np.cos(x), label='cos', color='b')\n",
    "ax.plot(x, 0.75 * np.sin(x) + 0.25 * np.cos(x), label='75/25 mix of sin/cos', color='pink', ls='--')\n",
    "ax.plot(x, 0.75 * np.sin(x) + 0.75 * np.cos(x), label='50/50 mix of sin/cos', color='gray', ls='--')\n",
    "ax.plot(x, 0.25 * np.sin(x) + 0.75 * np.cos(x), label='25/75 mix of sin/cos', color='lightblue', ls='--')\n",
    "plt.legend()"
   ]
  },
  {
   "cell_type": "markdown",
   "metadata": {},
   "source": [
    "On the mysterious relationship between the natural exponent ($e$) being raised to powers of $\\pi$  and $i$ (which is equal to $\\sqrt{-1}$):"
   ]
  },
  {
   "cell_type": "code",
   "execution_count": null,
   "metadata": {},
   "outputs": [],
   "source": [
    "# x ranges from 0 to 2pi\n",
    "x = np.linspace(0, 2*np.pi, 200)\n",
    "# Plot real and imaginary components of e^(i*x)\n",
    "plt.plot(x, np.real(np.exp(1j*x)), 'b')\n",
    "plt.plot(x, np.imag(np.exp(1j*x)), 'r')\n",
    "# Plot sin and cos of x to show that they're the same thing (the asterisks\n",
    "# should fall exactly on the line)\n",
    "plt.plot(x[::10], np.sin(x[::10]), 'm*')\n",
    "plt.plot(x[::10], np.cos(x[::10]), 'c*');"
   ]
  },
  {
   "cell_type": "code",
   "execution_count": null,
   "metadata": {
    "tags": []
   },
   "outputs": [],
   "source": [
    "fig, axs = plt.subplots(2, 1, figsize=(12, 4))\n",
    "\n",
    "# Generate and plot simple frequency signal\n",
    "N = 1000 ## number of points \n",
    "T = 1.0 ## define time of interval, for simplicity 1 second, but this will work with other (integer) durations\n",
    "signal_freq = [6, 28]\n",
    "values = [2, 6.2]\n",
    "t = np.linspace(0, 1, N) * T\n",
    "f = np.zeros(t.shape)\n",
    "for sig_f, val in zip(signal_freq, values):\n",
    "    f += np.sin(2 * np.pi * sig_f * t) * val\n",
    "# Add noise\n",
    "f += np.random.randn(*f.shape)\n",
    "axs[0].plot(t, f)\n",
    "axs[0].set_xlabel('Time (s)')\n",
    "# Show Fourier transform\n",
    "p = np.abs(np.fft.fft(f)) / (N / 2) ## absolute value of the fft \n",
    "                       # NOTE: abs value of fft = sqrt(real^2 + imag^2) -\n",
    "                       # which is the (vector) distance in the real /\n",
    "                       # imaginary coordinate plane. \n",
    "p = p[:int(np.ceil(N/2))] # **2? # take the power of positve freq. half \n",
    "freq = np.arange(N/2) / T # [0:N/2-1]/T ## find the corresponding frequency in Hz \n",
    "axs[1].plot(freq, p, '.-') ## plot on semilog scale \n",
    "xl = 30\n",
    "axs[1].set_xlim(0, xl)\n",
    "plt.xticks(range(xl))\n",
    "plt.grid(axis='x')\n",
    "plt.xlabel('Frequency (cycles / second)');\n",
    "plt.tight_layout()"
   ]
  },
  {
   "cell_type": "markdown",
   "metadata": {},
   "source": [
    "Some Fourier transforms of other functions:"
   ]
  },
  {
   "cell_type": "code",
   "execution_count": null,
   "metadata": {},
   "outputs": [],
   "source": [
    "# First: one-dimensional Fourier transforms\n",
    "#plt.subplots(figsize=(8, 9))\n",
    "\n",
    "\n",
    "max_freq = 20 # For fft frequency plots\n",
    "\n",
    "N = 500 # samples in signal\n",
    "T = 2.0 # seconds\n",
    "t = np.linspace(0, 1, N) * T # define time in seconds \n",
    "signals = list()\n",
    "# Simple frequency\n",
    "tmp = np.sin(2 * np.pi * 10 * t) + 2.3 * np.sin(2 * np.pi * 2 * t)\n",
    "signals.append(tmp)\n",
    "# Simple frequency + noise\n",
    "noise_std = 1.5\n",
    "signals.append(signals[0] + np.random.randn(*signals[0].shape) * noise_std)\n",
    "# Square wave\n",
    "tmp = np.zeros(signals[0].shape)\n",
    "st, fin =  int(np.floor(N * 0.333)), int(np.ceil(N * 0.666))\n",
    "middle_third_n =  fin - st\n",
    "tmp[st:fin] = 1\n",
    "signals.append(tmp)\n",
    "# Ramp\n",
    "tmp = np.zeros(signals[0].shape)\n",
    "tmp[st:fin] = np.linspace(0, 1, middle_third_n)\n",
    "signals.append(tmp)\n",
    "# Triangle\n",
    "tmp = np.zeros(signals[0].shape)\n",
    "tmp[st:fin] = np.hstack([np.linspace(0, 1, np.floor(middle_third_n/2)), np.linspace(1, 0, np.ceil(middle_third_n/2))])\n",
    "signals.append(tmp)\n",
    "\n",
    "ylims = [[-5, 5], [-5, 5], [-1, 2], [-1, 2], [-1, 2]]\n",
    "fig, axs = plt.subplots(5, 2, figsize=(12, 6), sharex=False)\n",
    "plt.suptitle('1-D Fourier Transforms', fontsize=16) # x=0.5, y=0.88\n",
    "do_title = True\n",
    "tick_ct = 0\n",
    "for tmp, y, yl in zip(axs, signals, ylims):\n",
    "    ax1, ax3 = tmp\n",
    "    #ax1, ax2, ax3 = tmp\n",
    "    ff = np.abs(np.fft.fft(y)) / (N/2) # absolute value of the fft \n",
    "    p = ff[:int(N/2)]**2 # take the power of positve freq. half \n",
    "    freq = np.arange(int(N/2)) / T  # find the corresponding frequency in Hz \n",
    "    ax1.plot(t, y)\n",
    "    ax1.set_ylim(yl)\n",
    "    # Fourier transform\n",
    "    #ax2.semilogy(freq, p, '.-')      ## ax.plot on semilog scale \n",
    "    #ax2.axis([10e-7, max_freq, 0, 1.2])     ## zoom in \n",
    "    # Cutoff \n",
    "    frequency_cutoff = np.sum(freq <= max_freq)\n",
    "    ax3.plot(freq[:frequency_cutoff], ff[:frequency_cutoff], '.-')\n",
    "    ax3.grid(axis='x')\n",
    "    if do_title:\n",
    "        ax1.set_title('Original signal')\n",
    "        #ax2.set_title('Fourier power spectrum')\n",
    "        ax3.set_title('Fourier power spectrum')\n",
    "        do_title = False\n",
    "    tick_ct += 1\n",
    "    if tick_ct < 5:\n",
    "        ax1.set_xticklabels([])\n",
    "        #ax2.set_xticks([])\n",
    "        ax3.set_xticklabels([])\n",
    "    else:\n",
    "        ax1.set_xlabel(\"Time (s)\")\n",
    "        ax3.set_xlabel(\"Frequency (hz)\")\n",
    "#plt.tight_layout()"
   ]
  },
  {
   "cell_type": "markdown",
   "metadata": {},
   "source": [
    "Aliasing of high frequencies"
   ]
  },
  {
   "cell_type": "code",
   "execution_count": null,
   "metadata": {},
   "outputs": [],
   "source": [
    "n = 21\n",
    "x = np.linspace(0, np.pi*2, n)\n",
    "xx = np.linspace(0, np.pi*2, n*100)\n",
    "t = np.arange(n)\n",
    "fig, axs = plt.subplots(5,2, figsize=(8,6), sharex=True, sharey=True)\n",
    "for i, ax in enumerate(axs.T.flatten()):\n",
    "    ax.plot(x, np.sin(i*x), '.-')\n",
    "    ax.plot(xx, np.sin(i*xx), lw=0.5, color='r')\n",
    "    ax.set_title('%d cycles, %d sample points'%(i, n))\n",
    "plt.tight_layout()"
   ]
  },
  {
   "cell_type": "code",
   "execution_count": null,
   "metadata": {},
   "outputs": [],
   "source": []
  },
  {
   "cell_type": "code",
   "execution_count": null,
   "metadata": {},
   "outputs": [],
   "source": []
  }
 ],
 "metadata": {
  "kernelspec": {
   "display_name": "Python 3 (ipykernel)",
   "language": "python",
   "name": "python3"
  },
  "language_info": {
   "codemirror_mode": {
    "name": "ipython",
    "version": 3
   },
   "file_extension": ".py",
   "mimetype": "text/x-python",
   "name": "python",
   "nbconvert_exporter": "python",
   "pygments_lexer": "ipython3",
   "version": "3.10.13"
  }
 },
 "nbformat": 4,
 "nbformat_minor": 4
}
